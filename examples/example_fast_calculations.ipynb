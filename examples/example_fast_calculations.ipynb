{
 "cells": [
  {
   "cell_type": "markdown",
   "metadata": {},
   "source": [
    "Very fast calculations of battery life can be made using some simpifications. For instance, if the operation of the battery is assumed to be unchanging, i.e., every 'cycle' is exactly repeated for the battery's entire life, then we can simply calculate the stress of this cycle on the battery once (which is usually the more computationally expensive step), and then calculate the degradation of repeating that stress however many times is desired very rapidly. Note that this assumption means that both temperature and state-of-charge vectors are assumed to stay constant, so we cannot handle climate variation using this approach."
   ]
  },
  {
   "cell_type": "code",
   "execution_count": null,
   "metadata": {},
   "outputs": [],
   "source": [
    "import numpy as np\n",
    "import matplotlib.pyplot as plt\n",
    "from blast.models import Nmc111_Gr_Kokam75Ah_Battery\n",
    "\n",
    "# Define an extremely simple example: storage at 80% state-of-charge and 45 degrees C\n",
    "# We only need to specify the state-of-charge and temperature for one 'period', which could be a cycle, or here, one day.\n",
    "inputs = {\n",
    "    \"Time_s\": np.array([0, 86399]),\n",
    "    \"SOC\": np.array([0.8, 0.8]),\n",
    "    \"Temperature_C\": np.array([45, 45])\n",
    "}\n",
    "\n",
    "battery = Nmc111_Gr_Kokam75Ah_Battery()\n",
    "# By setting the 'is_constant_input' argument to true, the input is automatically repeated until it hits simulation_years\n",
    "battery.simulate_battery_life(inputs, simulation_years=5, is_constant_input=True)\n",
    "\n",
    "plt.plot(battery.stressors['t_days']/365, battery.outputs['q'])"
   ]
  },
  {
   "cell_type": "code",
   "execution_count": null,
   "metadata": {},
   "outputs": [],
   "source": []
  }
 ],
 "metadata": {
  "kernelspec": {
   "display_name": "blast-lite",
   "language": "python",
   "name": "python3"
  },
  "language_info": {
   "name": "python",
   "version": "3.12.4"
  }
 },
 "nbformat": 4,
 "nbformat_minor": 2
}
